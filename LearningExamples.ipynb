{
 "cells": [
  {
   "cell_type": "code",
   "execution_count": 24,
   "metadata": {
    "collapsed": true
   },
   "outputs": [],
   "source": [
    "arr = [3,6,8,10,1,2]"
   ]
  },
  {
   "cell_type": "code",
   "execution_count": 2,
   "metadata": {
    "collapsed": false
   },
   "outputs": [
    {
     "data": {
      "text/plain": [
       "3"
      ]
     },
     "execution_count": 2,
     "metadata": {},
     "output_type": "execute_result"
    }
   ],
   "source": [
    "len(arr)/2"
   ]
  },
  {
   "cell_type": "code",
   "execution_count": 3,
   "metadata": {
    "collapsed": false
   },
   "outputs": [
    {
     "data": {
      "text/plain": [
       "10"
      ]
     },
     "execution_count": 3,
     "metadata": {},
     "output_type": "execute_result"
    }
   ],
   "source": [
    "arr[len(arr)/2]"
   ]
  },
  {
   "cell_type": "code",
   "execution_count": 4,
   "metadata": {
    "collapsed": false
   },
   "outputs": [
    {
     "name": "stdout",
     "output_type": "stream",
     "text": [
      "hello\n"
     ]
    }
   ],
   "source": [
    "print \"hello\""
   ]
  },
  {
   "cell_type": "code",
   "execution_count": 5,
   "metadata": {
    "collapsed": false
   },
   "outputs": [
    {
     "name": "stdout",
     "output_type": "stream",
     "text": [
      "#1: cat\n",
      "#2: dog\n",
      "#3: monkey\n"
     ]
    }
   ],
   "source": [
    "animals = ['cat', 'dog', 'monkey']\n",
    "for idx, animal in enumerate(animals):\n",
    "    print '#%d: %s' % (idx + 1, animal)"
   ]
  },
  {
   "cell_type": "code",
   "execution_count": 20,
   "metadata": {
    "collapsed": false
   },
   "outputs": [
    {
     "name": "stdout",
     "output_type": "stream",
     "text": [
      "[1, 2, 3, 4, 5, 6] [1, 8, 27, 64, 125, 216]\n"
     ]
    }
   ],
   "source": [
    "nums = [1,2,3,4,5,6]\n",
    "nums_cub = [x**3 for x in nums]\n",
    "print nums, nums_cub"
   ]
  },
  {
   "cell_type": "code",
   "execution_count": 8,
   "metadata": {
    "collapsed": false
   },
   "outputs": [
    {
     "name": "stdout",
     "output_type": "stream",
     "text": [
      "[1, 2, 3, 4, 5, 6] [8, 64, 216]\n"
     ]
    }
   ],
   "source": [
    "nums = [1,2,3,4,5,6]\n",
    "nums_cub = [x**3 for x in nums if x%2==0]\n",
    "print nums, nums_cub"
   ]
  },
  {
   "cell_type": "code",
   "execution_count": 9,
   "metadata": {
    "collapsed": false
   },
   "outputs": [
    {
     "name": "stdout",
     "output_type": "stream",
     "text": [
      "#1: fish\n",
      "#2: dog\n",
      "#3: cat\n"
     ]
    }
   ],
   "source": [
    "animals = {'cat', 'dog', 'fish'}\n",
    "for idx, animal in enumerate(animals):\n",
    "    print '#%d: %s' % (idx + 1, animal)"
   ]
  },
  {
   "cell_type": "code",
   "execution_count": 10,
   "metadata": {
    "collapsed": false
   },
   "outputs": [
    {
     "name": "stdout",
     "output_type": "stream",
     "text": [
      "#1: lion\n",
      "#2: cat\n",
      "#3: monkey\n",
      "#4: fish\n",
      "#5: dog\n"
     ]
    }
   ],
   "source": [
    "animals = {'cat', 'dog', 'fish', 'monkey', 'lion'}\n",
    "for idx, animal in enumerate(animals):\n",
    "    print '#%d: %s' % (idx + 1, animal)"
   ]
  },
  {
   "cell_type": "code",
   "execution_count": 11,
   "metadata": {
    "collapsed": false
   },
   "outputs": [
    {
     "name": "stdout",
     "output_type": "stream",
     "text": [
      "{0: 0, 2: 4, 4: 16}\n"
     ]
    }
   ],
   "source": [
    "nums = [0, 1, 2, 3, 4]\n",
    "even_num_to_square = {x: x ** 2 for x in nums if x % 2 == 0}\n",
    "print even_num_to_square  # Prints \"{0: 0, 2: 4, 4: 16}\""
   ]
  },
  {
   "cell_type": "code",
   "execution_count": 12,
   "metadata": {
    "collapsed": false
   },
   "outputs": [
    {
     "name": "stdout",
     "output_type": "stream",
     "text": [
      "{1: 1, 3: 27}\n"
     ]
    }
   ],
   "source": [
    "odd_nums_to_square = {x:x**3 for x in nums if x % 2 !=0}\n",
    "print odd_nums_to_square"
   ]
  },
  {
   "cell_type": "code",
   "execution_count": 13,
   "metadata": {
    "collapsed": false
   },
   "outputs": [
    {
     "data": {
      "text/plain": [
       "[0, 1, 2, 3, 4]"
      ]
     },
     "execution_count": 13,
     "metadata": {},
     "output_type": "execute_result"
    }
   ],
   "source": [
    "nums[:]"
   ]
  },
  {
   "cell_type": "code",
   "execution_count": 15,
   "metadata": {
    "collapsed": false
   },
   "outputs": [],
   "source": [
    "import numpy as np\n",
    "nums_arr = np.array(nums)"
   ]
  },
  {
   "cell_type": "code",
   "execution_count": 16,
   "metadata": {
    "collapsed": false
   },
   "outputs": [
    {
     "data": {
      "text/plain": [
       "array([0, 1, 2, 3, 4])"
      ]
     },
     "execution_count": 16,
     "metadata": {},
     "output_type": "execute_result"
    }
   ],
   "source": [
    "nums_arr"
   ]
  },
  {
   "cell_type": "code",
   "execution_count": 25,
   "metadata": {
    "collapsed": false
   },
   "outputs": [],
   "source": [
    "nums_arr = np.array([np.array(nums), np.array(nums_cub), np.array(arr)])"
   ]
  },
  {
   "cell_type": "code",
   "execution_count": 26,
   "metadata": {
    "collapsed": false
   },
   "outputs": [
    {
     "data": {
      "text/plain": [
       "array([[  1,   2,   3,   4,   5,   6],\n",
       "       [  1,   8,  27,  64, 125, 216],\n",
       "       [  3,   6,   8,  10,   1,   2]])"
      ]
     },
     "execution_count": 26,
     "metadata": {},
     "output_type": "execute_result"
    }
   ],
   "source": [
    "nums_arr"
   ]
  },
  {
   "cell_type": "code",
   "execution_count": 27,
   "metadata": {
    "collapsed": false
   },
   "outputs": [
    {
     "data": {
      "text/plain": [
       "(3, 6)"
      ]
     },
     "execution_count": 27,
     "metadata": {},
     "output_type": "execute_result"
    }
   ],
   "source": [
    "nums_arr.shape"
   ]
  },
  {
   "cell_type": "code",
   "execution_count": 38,
   "metadata": {
    "collapsed": true
   },
   "outputs": [],
   "source": [
    "a = np.array([[1,2], [3, 4], [5, 6]])"
   ]
  },
  {
   "cell_type": "code",
   "execution_count": 61,
   "metadata": {
    "collapsed": false
   },
   "outputs": [
    {
     "name": "stdout",
     "output_type": "stream",
     "text": [
      "[4 4 6 4]\n"
     ]
    }
   ],
   "source": [
    "b = a[[1, 1, 2,1], [1, 1, 1,1]]\n",
    "print b"
   ]
  },
  {
   "cell_type": "code",
   "execution_count": 40,
   "metadata": {
    "collapsed": false
   },
   "outputs": [
    {
     "data": {
      "text/plain": [
       "(3, 2)"
      ]
     },
     "execution_count": 40,
     "metadata": {},
     "output_type": "execute_result"
    }
   ],
   "source": [
    "a.shape"
   ]
  },
  {
   "cell_type": "code",
   "execution_count": 41,
   "metadata": {
    "collapsed": false
   },
   "outputs": [
    {
     "data": {
      "text/plain": [
       "(3,)"
      ]
     },
     "execution_count": 41,
     "metadata": {},
     "output_type": "execute_result"
    }
   ],
   "source": [
    "b.shape"
   ]
  },
  {
   "cell_type": "code",
   "execution_count": 50,
   "metadata": {
    "collapsed": false
   },
   "outputs": [
    {
     "name": "stdout",
     "output_type": "stream",
     "text": [
      "[1 1 1]\n"
     ]
    }
   ],
   "source": [
    "print b"
   ]
  },
  {
   "cell_type": "code",
   "execution_count": 37,
   "metadata": {
    "collapsed": false
   },
   "outputs": [
    {
     "data": {
      "text/plain": [
       "array([[1, 2],\n",
       "       [3, 4],\n",
       "       [5, 6]])"
      ]
     },
     "execution_count": 37,
     "metadata": {},
     "output_type": "execute_result"
    }
   ],
   "source": [
    "a"
   ]
  },
  {
   "cell_type": "code",
   "execution_count": 44,
   "metadata": {
    "collapsed": false
   },
   "outputs": [],
   "source": [
    "slicer = np.array([[0,1,1], [0,1,0]])"
   ]
  },
  {
   "cell_type": "code",
   "execution_count": 45,
   "metadata": {
    "collapsed": false
   },
   "outputs": [
    {
     "data": {
      "text/plain": [
       "array([[0, 1, 1],\n",
       "       [0, 1, 0]])"
      ]
     },
     "execution_count": 45,
     "metadata": {},
     "output_type": "execute_result"
    }
   ],
   "source": [
    "slicer"
   ]
  },
  {
   "cell_type": "code",
   "execution_count": 46,
   "metadata": {
    "collapsed": false
   },
   "outputs": [
    {
     "data": {
      "text/plain": [
       "array([[[1, 2],\n",
       "        [3, 4],\n",
       "        [3, 4]],\n",
       "\n",
       "       [[1, 2],\n",
       "        [3, 4],\n",
       "        [1, 2]]])"
      ]
     },
     "execution_count": 46,
     "metadata": {},
     "output_type": "execute_result"
    }
   ],
   "source": [
    "a[slicer]"
   ]
  },
  {
   "cell_type": "code",
   "execution_count": 105,
   "metadata": {
    "collapsed": true
   },
   "outputs": [],
   "source": [
    "x = np.array([[1,2],[3,4],[5,6],[7,8]], dtype=np.float64)\n",
    "y = np.array([5], dtype=np.float64)"
   ]
  },
  {
   "cell_type": "code",
   "execution_count": 109,
   "metadata": {
    "collapsed": false
   },
   "outputs": [
    {
     "data": {
      "text/plain": [
       "6.6332495807107996"
      ]
     },
     "execution_count": 109,
     "metadata": {},
     "output_type": "execute_result"
    }
   ],
   "source": [
    "np.sqrt(np.sum((x-y)**2))"
   ]
  },
  {
   "cell_type": "code",
   "execution_count": 64,
   "metadata": {
    "collapsed": false
   },
   "outputs": [
    {
     "data": {
      "text/plain": [
       "array([[  6.,   8.],\n",
       "       [ 10.,  12.]])"
      ]
     },
     "execution_count": 64,
     "metadata": {},
     "output_type": "execute_result"
    }
   ],
   "source": [
    "x+y"
   ]
  },
  {
   "cell_type": "code",
   "execution_count": 102,
   "metadata": {
    "collapsed": false
   },
   "outputs": [
    {
     "name": "stdout",
     "output_type": "stream",
     "text": [
      "6.63324958071\n"
     ]
    }
   ],
   "source": [
    "dist = np.linalg.norm(x-y)\n",
    "print dist"
   ]
  },
  {
   "cell_type": "code",
   "execution_count": 114,
   "metadata": {
    "collapsed": false
   },
   "outputs": [
    {
     "name": "stdout",
     "output_type": "stream",
     "text": [
      "[-4. -3.]\n",
      "[-2. -1.]\n",
      "[ 0.  1.]\n",
      "[ 2.  3.]\n"
     ]
    }
   ],
   "source": [
    "summer = 0.000000\n",
    "distly = 0.000000\n",
    "for i in xrange(x.shape[0]):\n",
    "    for j in xrange(y.shape[0]):\n",
    "        summer += np.sum(((x[i]-y[j])**2))\n",
    "        print (x[i]-y[j])\n",
    "\n",
    "summer\n",
    "distly  = np.sqrt(float(summer))"
   ]
  },
  {
   "cell_type": "code",
   "execution_count": 115,
   "metadata": {
    "collapsed": false
   },
   "outputs": [
    {
     "data": {
      "text/plain": [
       "6.6332495807107996"
      ]
     },
     "execution_count": 115,
     "metadata": {},
     "output_type": "execute_result"
    }
   ],
   "source": [
    "distly"
   ]
  },
  {
   "cell_type": "code",
   "execution_count": 82,
   "metadata": {
    "collapsed": false
   },
   "outputs": [
    {
     "data": {
      "text/plain": [
       "5.0"
      ]
     },
     "execution_count": 82,
     "metadata": {},
     "output_type": "execute_result"
    }
   ],
   "source": [
    "y[0]"
   ]
  },
  {
   "cell_type": "code",
   "execution_count": 119,
   "metadata": {
    "collapsed": true
   },
   "outputs": [],
   "source": [
    "  def compute_distances_two_loops(Y, X):\n",
    "    \"\"\"\n",
    "    Compute the distance between each test point in X and each training point\n",
    "    in self.X_train using a nested loop over both the training data and the \n",
    "    test data.\n",
    "\n",
    "    Inputs:\n",
    "    - X: A numpy array of shape (num_test, D) containing test data.\n",
    "\n",
    "    Returns:\n",
    "    - dists: A numpy array of shape (num_test, num_train) where dists[i, j]\n",
    "      is the Euclidean distance between the ith test point and the jth training\n",
    "      point.\n",
    "    \"\"\"\n",
    "    num_test = X.shape[0]\n",
    "    num_train = Y.shape[0]\n",
    "    dists = np.zeros((num_test, num_train))\n",
    "    for i in xrange(num_test):\n",
    "      for j in xrange(num_train):\n",
    "        #####################################################################\n",
    "        # TODO:                                                             #\n",
    "        # Compute the l2 distance between the ith test point and the jth    #\n",
    "        # training point, and store the result in dists[i, j]. You should   #\n",
    "        # not use a loop over dimension.                                    #\n",
    "        #####################################################################\n",
    "        dists[i,j]=np.sqrt(((Y[i]-X[j])**2))\n",
    "        #####################################################################\n",
    "        #                       END OF YOUR CODE                            #\n",
    "        #####################################################################\n",
    "    return dists"
   ]
  },
  {
   "cell_type": "code",
   "execution_count": 121,
   "metadata": {
    "collapsed": false
   },
   "outputs": [
    {
     "ename": "ValueError",
     "evalue": "setting an array element with a sequence.",
     "output_type": "error",
     "traceback": [
      "\u001b[0;31m---------------------------------------------------------------------------\u001b[0m",
      "\u001b[0;31mValueError\u001b[0m                                Traceback (most recent call last)",
      "\u001b[0;32m<ipython-input-121-d4e98096a5ec>\u001b[0m in \u001b[0;36m<module>\u001b[0;34m()\u001b[0m\n\u001b[1;32m      1\u001b[0m \u001b[0mM\u001b[0m \u001b[0;34m=\u001b[0m \u001b[0mnp\u001b[0m\u001b[0;34m.\u001b[0m\u001b[0marray\u001b[0m\u001b[0;34m(\u001b[0m\u001b[0;34m[\u001b[0m\u001b[0;34m[\u001b[0m\u001b[0;36m1\u001b[0m\u001b[0;34m,\u001b[0m\u001b[0;36m2\u001b[0m\u001b[0;34m]\u001b[0m\u001b[0;34m,\u001b[0m\u001b[0;34m[\u001b[0m\u001b[0;36m2\u001b[0m\u001b[0;34m,\u001b[0m\u001b[0;36m3\u001b[0m\u001b[0;34m]\u001b[0m\u001b[0;34m,\u001b[0m\u001b[0;34m[\u001b[0m\u001b[0;36m3\u001b[0m\u001b[0;34m,\u001b[0m\u001b[0;36m4\u001b[0m\u001b[0;34m]\u001b[0m\u001b[0;34m,\u001b[0m\u001b[0;34m[\u001b[0m\u001b[0;36m4\u001b[0m\u001b[0;34m,\u001b[0m\u001b[0;36m5\u001b[0m\u001b[0;34m]\u001b[0m\u001b[0;34m,\u001b[0m\u001b[0;34m[\u001b[0m\u001b[0;36m5\u001b[0m\u001b[0;34m,\u001b[0m\u001b[0;36m6\u001b[0m\u001b[0;34m]\u001b[0m\u001b[0;34m]\u001b[0m\u001b[0;34m)\u001b[0m\u001b[0;34m\u001b[0m\u001b[0m\n\u001b[1;32m      2\u001b[0m \u001b[0mN\u001b[0m \u001b[0;34m=\u001b[0m \u001b[0mnp\u001b[0m\u001b[0;34m.\u001b[0m\u001b[0marray\u001b[0m\u001b[0;34m(\u001b[0m\u001b[0;34m[\u001b[0m\u001b[0;34m[\u001b[0m\u001b[0;36m7\u001b[0m\u001b[0;34m,\u001b[0m\u001b[0;36m8\u001b[0m\u001b[0;34m]\u001b[0m\u001b[0;34m,\u001b[0m\u001b[0;34m[\u001b[0m\u001b[0;36m8\u001b[0m\u001b[0;34m,\u001b[0m\u001b[0;36m9\u001b[0m\u001b[0;34m]\u001b[0m\u001b[0;34m,\u001b[0m\u001b[0;34m[\u001b[0m\u001b[0;36m9\u001b[0m\u001b[0;34m,\u001b[0m\u001b[0;36m10\u001b[0m\u001b[0;34m]\u001b[0m\u001b[0;34m]\u001b[0m\u001b[0;34m)\u001b[0m\u001b[0;34m\u001b[0m\u001b[0m\n\u001b[0;32m----> 3\u001b[0;31m \u001b[0mnpdist\u001b[0m \u001b[0;34m=\u001b[0m \u001b[0mcompute_distances_two_loops\u001b[0m\u001b[0;34m(\u001b[0m\u001b[0mM\u001b[0m\u001b[0;34m,\u001b[0m\u001b[0mN\u001b[0m\u001b[0;34m)\u001b[0m\u001b[0;34m\u001b[0m\u001b[0m\n\u001b[0m",
      "\u001b[0;32m<ipython-input-119-0cefd771486c>\u001b[0m in \u001b[0;36mcompute_distances_two_loops\u001b[0;34m(Y, X)\u001b[0m\n\u001b[1;32m     24\u001b[0m       \u001b[0;31m# not use a loop over dimension.                                    #\u001b[0m\u001b[0;34m\u001b[0m\u001b[0;34m\u001b[0m\u001b[0m\n\u001b[1;32m     25\u001b[0m       \u001b[0;31m#####################################################################\u001b[0m\u001b[0;34m\u001b[0m\u001b[0;34m\u001b[0m\u001b[0m\n\u001b[0;32m---> 26\u001b[0;31m       \u001b[0mdists\u001b[0m\u001b[0;34m[\u001b[0m\u001b[0mi\u001b[0m\u001b[0;34m,\u001b[0m\u001b[0mj\u001b[0m\u001b[0;34m]\u001b[0m\u001b[0;34m=\u001b[0m\u001b[0mnp\u001b[0m\u001b[0;34m.\u001b[0m\u001b[0msqrt\u001b[0m\u001b[0;34m(\u001b[0m\u001b[0;34m(\u001b[0m\u001b[0;34m(\u001b[0m\u001b[0mY\u001b[0m\u001b[0;34m[\u001b[0m\u001b[0mi\u001b[0m\u001b[0;34m]\u001b[0m\u001b[0;34m-\u001b[0m\u001b[0mX\u001b[0m\u001b[0;34m[\u001b[0m\u001b[0mj\u001b[0m\u001b[0;34m]\u001b[0m\u001b[0;34m)\u001b[0m\u001b[0;34m**\u001b[0m\u001b[0;36m2\u001b[0m\u001b[0;34m)\u001b[0m\u001b[0;34m)\u001b[0m\u001b[0;34m\u001b[0m\u001b[0m\n\u001b[0m\u001b[1;32m     27\u001b[0m       \u001b[0;31m#####################################################################\u001b[0m\u001b[0;34m\u001b[0m\u001b[0;34m\u001b[0m\u001b[0m\n\u001b[1;32m     28\u001b[0m       \u001b[0;31m#                       END OF YOUR CODE                            #\u001b[0m\u001b[0;34m\u001b[0m\u001b[0;34m\u001b[0m\u001b[0m\n",
      "\u001b[0;31mValueError\u001b[0m: setting an array element with a sequence."
     ]
    }
   ],
   "source": [
    "M = np.array([[1,2],[2,3],[3,4],[4,5],[5,6]])\n",
    "N = np.array([[7,8],[8,9],[9,10]])\n",
    "npdist = compute_distances_two_loops(M,N)"
   ]
  },
  {
   "cell_type": "code",
   "execution_count": 145,
   "metadata": {
    "collapsed": false
   },
   "outputs": [
    {
     "data": {
      "text/plain": [
       "array([[ 0.,  0.,  0.,  0.,  0.],\n",
       "       [ 0.,  0.,  0.,  0.,  0.],\n",
       "       [ 0.,  0.,  0.,  0.,  0.]])"
      ]
     },
     "execution_count": 145,
     "metadata": {},
     "output_type": "execute_result"
    }
   ],
   "source": [
    "num_test = N.shape[0]\n",
    "num_train = M.shape[0]\n",
    "dists = np.zeros((num_test, num_train))\n",
    "\n",
    "num_test\n",
    "num_train\n",
    "dists"
   ]
  },
  {
   "cell_type": "code",
   "execution_count": 147,
   "metadata": {
    "collapsed": false
   },
   "outputs": [],
   "source": [
    "for i in xrange(num_test):\n",
    "      for j in xrange(num_train):\n",
    "        dists[i,j] = np.sqrt(np.sum(((M[j]-N[i])**2)))"
   ]
  },
  {
   "cell_type": "code",
   "execution_count": 149,
   "metadata": {
    "collapsed": false
   },
   "outputs": [
    {
     "data": {
      "text/plain": [
       "array([[  8.48528137,   7.07106781,   5.65685425,   4.24264069,\n",
       "          2.82842712],\n",
       "       [  9.89949494,   8.48528137,   7.07106781,   5.65685425,\n",
       "          4.24264069],\n",
       "       [ 11.3137085 ,   9.89949494,   8.48528137,   7.07106781,\n",
       "          5.65685425]])"
      ]
     },
     "execution_count": 149,
     "metadata": {},
     "output_type": "execute_result"
    }
   ],
   "source": [
    "dists"
   ]
  },
  {
   "cell_type": "code",
   "execution_count": 152,
   "metadata": {
    "collapsed": false
   },
   "outputs": [],
   "source": [
    "for i in xrange(num_test):\n",
    "      dists[i, :] = np.sqrt(np.sum(((M-N[i])**2)))"
   ]
  },
  {
   "cell_type": "code",
   "execution_count": 153,
   "metadata": {
    "collapsed": false
   },
   "outputs": [
    {
     "data": {
      "text/plain": [
       "array([[ 13.41640786,  13.41640786,  13.41640786,  13.41640786,\n",
       "         13.41640786],\n",
       "       [ 16.43167673,  16.43167673,  16.43167673,  16.43167673,\n",
       "         16.43167673],\n",
       "       [ 19.49358869,  19.49358869,  19.49358869,  19.49358869,\n",
       "         19.49358869]])"
      ]
     },
     "execution_count": 153,
     "metadata": {},
     "output_type": "execute_result"
    }
   ],
   "source": [
    "dists"
   ]
  },
  {
   "cell_type": "code",
   "execution_count": 159,
   "metadata": {
    "collapsed": false
   },
   "outputs": [
    {
     "name": "stdout",
     "output_type": "stream",
     "text": [
      "0 0 [36 36]\n",
      "0 1 [25 25]\n",
      "0 2 [16 16]\n",
      "0 3 [9 9]\n",
      "0 4 [4 4]\n",
      "1 0 [49 49]\n",
      "1 1 [36 36]\n",
      "1 2 [25 25]\n",
      "1 3 [16 16]\n",
      "1 4 [9 9]\n",
      "2 0 [64 64]\n",
      "2 1 [49 49]\n",
      "2 2 [36 36]\n",
      "2 3 [25 25]\n",
      "2 4 [16 16]\n"
     ]
    }
   ],
   "source": [
    "for i in xrange(num_test):\n",
    "      for j in xrange(num_train):\n",
    "        print i,j,((M[j]-N[i])**2)"
   ]
  },
  {
   "cell_type": "code",
   "execution_count": 166,
   "metadata": {
    "collapsed": false
   },
   "outputs": [
    {
     "name": "stdout",
     "output_type": "stream",
     "text": [
      "0 [ 8.48528137  7.07106781  5.65685425  4.24264069  2.82842712]\n",
      "1 [ 9.89949494  8.48528137  7.07106781  5.65685425  4.24264069]\n",
      "2 [ 11.3137085    9.89949494   8.48528137   7.07106781   5.65685425]\n"
     ]
    }
   ],
   "source": [
    "for i in xrange(num_test):\n",
    "    print i, np.sqrt(np.sum((M-N[i])**2, axis=1))\n",
    "    dists[i,:] = np.sqrt(np.sum((M-N[i])**2, axis=1))"
   ]
  },
  {
   "cell_type": "code",
   "execution_count": 167,
   "metadata": {
    "collapsed": false
   },
   "outputs": [
    {
     "data": {
      "text/plain": [
       "array([[  8.48528137,   7.07106781,   5.65685425,   4.24264069,\n",
       "          2.82842712],\n",
       "       [  9.89949494,   8.48528137,   7.07106781,   5.65685425,\n",
       "          4.24264069],\n",
       "       [ 11.3137085 ,   9.89949494,   8.48528137,   7.07106781,\n",
       "          5.65685425]])"
      ]
     },
     "execution_count": 167,
     "metadata": {},
     "output_type": "execute_result"
    }
   ],
   "source": [
    "dists"
   ]
  },
  {
   "cell_type": "code",
   "execution_count": 176,
   "metadata": {
    "collapsed": false
   },
   "outputs": [
    {
     "ename": "ValueError",
     "evalue": "operands could not be broadcast together with shapes (6,1) (10,1) ",
     "output_type": "error",
     "traceback": [
      "\u001b[0;31m---------------------------------------------------------------------------\u001b[0m",
      "\u001b[0;31mValueError\u001b[0m                                Traceback (most recent call last)",
      "\u001b[0;32m<ipython-input-176-d796a1849b84>\u001b[0m in \u001b[0;36m<module>\u001b[0;34m()\u001b[0m\n\u001b[0;32m----> 1\u001b[0;31m \u001b[0mN\u001b[0m\u001b[0;34m.\u001b[0m\u001b[0mreshape\u001b[0m\u001b[0;34m(\u001b[0m\u001b[0;36m6\u001b[0m\u001b[0;34m,\u001b[0m\u001b[0;36m1\u001b[0m\u001b[0;34m)\u001b[0m\u001b[0;34m-\u001b[0m\u001b[0mM\u001b[0m\u001b[0;34m.\u001b[0m\u001b[0mreshape\u001b[0m\u001b[0;34m(\u001b[0m\u001b[0;36m10\u001b[0m\u001b[0;34m,\u001b[0m\u001b[0;36m1\u001b[0m\u001b[0;34m)\u001b[0m\u001b[0;34m\u001b[0m\u001b[0m\n\u001b[0m",
      "\u001b[0;31mValueError\u001b[0m: operands could not be broadcast together with shapes (6,1) (10,1) "
     ]
    }
   ],
   "source": [
    "N.reshape(6,1)-M.reshape(10,1)"
   ]
  },
  {
   "cell_type": "code",
   "execution_count": 177,
   "metadata": {
    "collapsed": false
   },
   "outputs": [
    {
     "data": {
      "text/plain": [
       "array([[1, 2],\n",
       "       [2, 3],\n",
       "       [3, 4],\n",
       "       [4, 5],\n",
       "       [5, 6]])"
      ]
     },
     "execution_count": 177,
     "metadata": {},
     "output_type": "execute_result"
    }
   ],
   "source": [
    "M"
   ]
  },
  {
   "cell_type": "code",
   "execution_count": 178,
   "metadata": {
    "collapsed": false
   },
   "outputs": [
    {
     "data": {
      "text/plain": [
       "array([[ 7,  8],\n",
       "       [ 8,  9],\n",
       "       [ 9, 10]])"
      ]
     },
     "execution_count": 178,
     "metadata": {},
     "output_type": "execute_result"
    }
   ],
   "source": [
    "N"
   ]
  },
  {
   "cell_type": "code",
   "execution_count": 179,
   "metadata": {
    "collapsed": false
   },
   "outputs": [
    {
     "ename": "ValueError",
     "evalue": "operands could not be broadcast together with shapes (5,2) (3,2) ",
     "output_type": "error",
     "traceback": [
      "\u001b[0;31m---------------------------------------------------------------------------\u001b[0m",
      "\u001b[0;31mValueError\u001b[0m                                Traceback (most recent call last)",
      "\u001b[0;32m<ipython-input-179-d7ac378e9170>\u001b[0m in \u001b[0;36m<module>\u001b[0;34m()\u001b[0m\n\u001b[0;32m----> 1\u001b[0;31m \u001b[0mM\u001b[0m\u001b[0;34m+\u001b[0m\u001b[0mN\u001b[0m\u001b[0;34m\u001b[0m\u001b[0m\n\u001b[0m",
      "\u001b[0;31mValueError\u001b[0m: operands could not be broadcast together with shapes (5,2) (3,2) "
     ]
    }
   ],
   "source": [
    "M+N"
   ]
  },
  {
   "cell_type": "code",
   "execution_count": 182,
   "metadata": {
    "collapsed": false
   },
   "outputs": [
    {
     "data": {
      "text/plain": [
       "array([[1, 2, 2, 3, 3, 4, 4, 5, 5, 6]])"
      ]
     },
     "execution_count": 182,
     "metadata": {},
     "output_type": "execute_result"
    }
   ],
   "source": [
    "M.reshape(1,10)"
   ]
  },
  {
   "cell_type": "code",
   "execution_count": 183,
   "metadata": {
    "collapsed": false
   },
   "outputs": [
    {
     "data": {
      "text/plain": [
       "array([[ 7,  8,  8,  9,  9, 10]])"
      ]
     },
     "execution_count": 183,
     "metadata": {},
     "output_type": "execute_result"
    }
   ],
   "source": [
    "N.reshape(1,6)"
   ]
  },
  {
   "cell_type": "code",
   "execution_count": 185,
   "metadata": {
    "collapsed": false
   },
   "outputs": [
    {
     "ename": "ValueError",
     "evalue": "operands could not be broadcast together with shapes (1,10) (1,6) ",
     "output_type": "error",
     "traceback": [
      "\u001b[0;31m---------------------------------------------------------------------------\u001b[0m",
      "\u001b[0;31mValueError\u001b[0m                                Traceback (most recent call last)",
      "\u001b[0;32m<ipython-input-185-456ceed8336a>\u001b[0m in \u001b[0;36m<module>\u001b[0;34m()\u001b[0m\n\u001b[0;32m----> 1\u001b[0;31m \u001b[0mM\u001b[0m\u001b[0;34m.\u001b[0m\u001b[0mreshape\u001b[0m\u001b[0;34m(\u001b[0m\u001b[0;36m1\u001b[0m\u001b[0;34m,\u001b[0m\u001b[0;36m10\u001b[0m\u001b[0;34m)\u001b[0m\u001b[0;34m-\u001b[0m\u001b[0mN\u001b[0m\u001b[0;34m.\u001b[0m\u001b[0mreshape\u001b[0m\u001b[0;34m(\u001b[0m\u001b[0;36m1\u001b[0m\u001b[0;34m,\u001b[0m\u001b[0;36m6\u001b[0m\u001b[0;34m)\u001b[0m\u001b[0;34m\u001b[0m\u001b[0m\n\u001b[0m",
      "\u001b[0;31mValueError\u001b[0m: operands could not be broadcast together with shapes (1,10) (1,6) "
     ]
    }
   ],
   "source": [
    "M.reshape(1,10)-N.reshape(1,6)"
   ]
  },
  {
   "cell_type": "code",
   "execution_count": 186,
   "metadata": {
    "collapsed": false
   },
   "outputs": [
    {
     "data": {
      "text/plain": [
       "array([[1, 2],\n",
       "       [2, 3],\n",
       "       [3, 4],\n",
       "       [4, 5],\n",
       "       [5, 6]])"
      ]
     },
     "execution_count": 186,
     "metadata": {},
     "output_type": "execute_result"
    }
   ],
   "source": [
    "M"
   ]
  },
  {
   "cell_type": "code",
   "execution_count": 187,
   "metadata": {
    "collapsed": false
   },
   "outputs": [
    {
     "data": {
      "text/plain": [
       "array([[ 23,  38,  53,  68,  83],\n",
       "       [ 26,  43,  60,  77,  94],\n",
       "       [ 29,  48,  67,  86, 105]])"
      ]
     },
     "execution_count": 187,
     "metadata": {},
     "output_type": "execute_result"
    }
   ],
   "source": [
    "N.dot(M.T)"
   ]
  },
  {
   "cell_type": "code",
   "execution_count": 188,
   "metadata": {
    "collapsed": false
   },
   "outputs": [
    {
     "data": {
      "text/plain": [
       "array([[ 5,  8, 11, 14, 17],\n",
       "       [ 8, 13, 18, 23, 28],\n",
       "       [11, 18, 25, 32, 39],\n",
       "       [14, 23, 32, 41, 50],\n",
       "       [17, 28, 39, 50, 61]])"
      ]
     },
     "execution_count": 188,
     "metadata": {},
     "output_type": "execute_result"
    }
   ],
   "source": [
    "M.dot(M.T)"
   ]
  },
  {
   "cell_type": "code",
   "execution_count": 189,
   "metadata": {
    "collapsed": false
   },
   "outputs": [
    {
     "ename": "ValueError",
     "evalue": "shapes (5,2) and (5,2) not aligned: 2 (dim 1) != 5 (dim 0)",
     "output_type": "error",
     "traceback": [
      "\u001b[0;31m---------------------------------------------------------------------------\u001b[0m",
      "\u001b[0;31mValueError\u001b[0m                                Traceback (most recent call last)",
      "\u001b[0;32m<ipython-input-189-bbd80d25fb20>\u001b[0m in \u001b[0;36m<module>\u001b[0;34m()\u001b[0m\n\u001b[0;32m----> 1\u001b[0;31m \u001b[0mM\u001b[0m\u001b[0;34m.\u001b[0m\u001b[0mdot\u001b[0m\u001b[0;34m(\u001b[0m\u001b[0mM\u001b[0m\u001b[0;34m)\u001b[0m\u001b[0;34m\u001b[0m\u001b[0m\n\u001b[0m",
      "\u001b[0;31mValueError\u001b[0m: shapes (5,2) and (5,2) not aligned: 2 (dim 1) != 5 (dim 0)"
     ]
    }
   ],
   "source": [
    "M.dot(M)"
   ]
  },
  {
   "cell_type": "code",
   "execution_count": 190,
   "metadata": {
    "collapsed": false
   },
   "outputs": [
    {
     "data": {
      "text/plain": [
       "array([[ 1,  4],\n",
       "       [ 4,  9],\n",
       "       [ 9, 16],\n",
       "       [16, 25],\n",
       "       [25, 36]])"
      ]
     },
     "execution_count": 190,
     "metadata": {},
     "output_type": "execute_result"
    }
   ],
   "source": [
    "M**2"
   ]
  },
  {
   "cell_type": "code",
   "execution_count": 191,
   "metadata": {
    "collapsed": false
   },
   "outputs": [
    {
     "ename": "ValueError",
     "evalue": "operands could not be broadcast together with shapes (5,2) (3,2) ",
     "output_type": "error",
     "traceback": [
      "\u001b[0;31m---------------------------------------------------------------------------\u001b[0m",
      "\u001b[0;31mValueError\u001b[0m                                Traceback (most recent call last)",
      "\u001b[0;32m<ipython-input-191-06eceed2a2f1>\u001b[0m in \u001b[0;36m<module>\u001b[0;34m()\u001b[0m\n\u001b[0;32m----> 1\u001b[0;31m \u001b[0mM\u001b[0m\u001b[0;34m**\u001b[0m\u001b[0;36m2\u001b[0m \u001b[0;34m+\u001b[0m \u001b[0mN\u001b[0m \u001b[0;34m**\u001b[0m\u001b[0;36m2\u001b[0m \u001b[0;34m-\u001b[0m \u001b[0;36m2\u001b[0m\u001b[0;34m*\u001b[0m\u001b[0mN\u001b[0m\u001b[0;34m.\u001b[0m\u001b[0mdot\u001b[0m\u001b[0;34m(\u001b[0m\u001b[0mM\u001b[0m\u001b[0;34m.\u001b[0m\u001b[0mT\u001b[0m\u001b[0;34m)\u001b[0m\u001b[0;34m\u001b[0m\u001b[0m\n\u001b[0m",
      "\u001b[0;31mValueError\u001b[0m: operands could not be broadcast together with shapes (5,2) (3,2) "
     ]
    }
   ],
   "source": [
    "M**2 + N **2 - 2*N.dot(M.T)"
   ]
  },
  {
   "cell_type": "code",
   "execution_count": 192,
   "metadata": {
    "collapsed": false
   },
   "outputs": [
    {
     "data": {
      "text/plain": [
       "array([[ 49,  64],\n",
       "       [ 64,  81],\n",
       "       [ 81, 100]])"
      ]
     },
     "execution_count": 192,
     "metadata": {},
     "output_type": "execute_result"
    }
   ],
   "source": [
    "N**2"
   ]
  },
  {
   "cell_type": "code",
   "execution_count": 193,
   "metadata": {
    "collapsed": false
   },
   "outputs": [
    {
     "data": {
      "text/plain": [
       "array([[ 23,  38,  53,  68,  83],\n",
       "       [ 26,  43,  60,  77,  94],\n",
       "       [ 29,  48,  67,  86, 105]])"
      ]
     },
     "execution_count": 193,
     "metadata": {},
     "output_type": "execute_result"
    }
   ],
   "source": [
    "N.dot(M.T)"
   ]
  },
  {
   "cell_type": "code",
   "execution_count": 194,
   "metadata": {
    "collapsed": false
   },
   "outputs": [
    {
     "data": {
      "text/plain": [
       "array([[1, 2],\n",
       "       [2, 3],\n",
       "       [3, 4],\n",
       "       [4, 5],\n",
       "       [5, 6]])"
      ]
     },
     "execution_count": 194,
     "metadata": {},
     "output_type": "execute_result"
    }
   ],
   "source": [
    "M"
   ]
  },
  {
   "cell_type": "code",
   "execution_count": 195,
   "metadata": {
    "collapsed": false
   },
   "outputs": [
    {
     "data": {
      "text/plain": [
       "array([[ 7,  8],\n",
       "       [ 8,  9],\n",
       "       [ 9, 10]])"
      ]
     },
     "execution_count": 195,
     "metadata": {},
     "output_type": "execute_result"
    }
   ],
   "source": [
    "N"
   ]
  },
  {
   "cell_type": "code",
   "execution_count": 197,
   "metadata": {
    "collapsed": false
   },
   "outputs": [
    {
     "data": {
      "text/plain": [
       "array([ 5, 13, 25, 41, 61])"
      ]
     },
     "execution_count": 197,
     "metadata": {},
     "output_type": "execute_result"
    }
   ],
   "source": [
    "M_sq = M*M\n",
    "M_sq = np.sum(M_sq, axis=1)\n",
    "M_sq"
   ]
  },
  {
   "cell_type": "code",
   "execution_count": 198,
   "metadata": {
    "collapsed": true
   },
   "outputs": [],
   "source": [
    "M_sq_rep = np.array([M_sq]*N.shape[0])"
   ]
  },
  {
   "cell_type": "code",
   "execution_count": 199,
   "metadata": {
    "collapsed": false
   },
   "outputs": [
    {
     "data": {
      "text/plain": [
       "array([[ 5, 13, 25, 41, 61],\n",
       "       [ 5, 13, 25, 41, 61],\n",
       "       [ 5, 13, 25, 41, 61]])"
      ]
     },
     "execution_count": 199,
     "metadata": {},
     "output_type": "execute_result"
    }
   ],
   "source": [
    "M_sq_rep"
   ]
  },
  {
   "cell_type": "code",
   "execution_count": 202,
   "metadata": {
    "collapsed": false
   },
   "outputs": [
    {
     "name": "stdout",
     "output_type": "stream",
     "text": [
      "[113 145 181]\n",
      "[[113 113 113 113 113]\n",
      " [145 145 145 145 145]\n",
      " [181 181 181 181 181]]\n"
     ]
    }
   ],
   "source": [
    "N_sq = N*N\n",
    "N_sq = np.sum(N_sq, axis=1)\n",
    "print N_sq\n",
    "N_sq_rep = np.array([N_sq]*M.shape[0]).T\n",
    "print N_sq_rep"
   ]
  },
  {
   "cell_type": "code",
   "execution_count": 203,
   "metadata": {
    "collapsed": false
   },
   "outputs": [
    {
     "data": {
      "text/plain": [
       "array([[ 23,  38,  53,  68,  83],\n",
       "       [ 26,  43,  60,  77,  94],\n",
       "       [ 29,  48,  67,  86, 105]])"
      ]
     },
     "execution_count": 203,
     "metadata": {},
     "output_type": "execute_result"
    }
   ],
   "source": [
    "N.dot(M.T)"
   ]
  },
  {
   "cell_type": "code",
   "execution_count": 2,
   "metadata": {
    "collapsed": false
   },
   "outputs": [],
   "source": [
    "import numpy as np\n",
    "x = np.array([[5, 4], [3, 6]])"
   ]
  },
  {
   "cell_type": "code",
   "execution_count": 3,
   "metadata": {
    "collapsed": false
   },
   "outputs": [
    {
     "data": {
      "text/plain": [
       "array([[1, 0],\n",
       "       [0, 1]])"
      ]
     },
     "execution_count": 3,
     "metadata": {},
     "output_type": "execute_result"
    }
   ],
   "source": [
    "#Expected Output\n",
    "#[[1,0],[0,1]]\n",
    "np.argsort(x, axis=0)"
   ]
  },
  {
   "cell_type": "code",
   "execution_count": 4,
   "metadata": {
    "collapsed": false
   },
   "outputs": [
    {
     "data": {
      "text/plain": [
       "array([[1, 0],\n",
       "       [0, 1]])"
      ]
     },
     "execution_count": 4,
     "metadata": {},
     "output_type": "execute_result"
    }
   ],
   "source": [
    "#Expected output\n",
    "#[[1,0],[0,1]]\n",
    "np.argsort(x, axis=1)"
   ]
  },
  {
   "cell_type": "code",
   "execution_count": 9,
   "metadata": {
    "collapsed": true
   },
   "outputs": [],
   "source": [
    "y = np.array([[5, 9, 4], [3, 6, 8], [1,2,7]])"
   ]
  },
  {
   "cell_type": "code",
   "execution_count": 10,
   "metadata": {
    "collapsed": false
   },
   "outputs": [
    {
     "data": {
      "text/plain": [
       "array([[2, 2, 0],\n",
       "       [1, 1, 2],\n",
       "       [0, 0, 1]])"
      ]
     },
     "execution_count": 10,
     "metadata": {},
     "output_type": "execute_result"
    }
   ],
   "source": [
    "#Expected Output\n",
    "#[[2,1,0],[1,2,0],[1,2,0]]\n",
    "np.argsort(y, axis=0)"
   ]
  },
  {
   "cell_type": "code",
   "execution_count": 7,
   "metadata": {
    "collapsed": false
   },
   "outputs": [
    {
     "data": {
      "text/plain": [
       "array([[1, 2, 0],\n",
       "       [0, 1, 2],\n",
       "       [0, 1, 2]])"
      ]
     },
     "execution_count": 7,
     "metadata": {},
     "output_type": "execute_result"
    }
   ],
   "source": [
    "np.argsort(y, axis=1)"
   ]
  },
  {
   "cell_type": "code",
   "execution_count": 8,
   "metadata": {
    "collapsed": false
   },
   "outputs": [
    {
     "data": {
      "text/plain": [
       "array([[5, 4, 4],\n",
       "       [3, 6, 8],\n",
       "       [1, 1, 1]])"
      ]
     },
     "execution_count": 8,
     "metadata": {},
     "output_type": "execute_result"
    }
   ],
   "source": [
    "y"
   ]
  },
  {
   "cell_type": "code",
   "execution_count": 23,
   "metadata": {
    "collapsed": true
   },
   "outputs": [],
   "source": [
    "arr = np.array([4,4,4,1,1,1,2,3,3])\n",
    "pivot = arr[len(arr) / 2]"
   ]
  },
  {
   "cell_type": "code",
   "execution_count": 12,
   "metadata": {
    "collapsed": false
   },
   "outputs": [
    {
     "data": {
      "text/plain": [
       "4"
      ]
     },
     "execution_count": 12,
     "metadata": {},
     "output_type": "execute_result"
    }
   ],
   "source": [
    "pivot"
   ]
  },
  {
   "cell_type": "code",
   "execution_count": 14,
   "metadata": {
    "collapsed": false
   },
   "outputs": [
    {
     "data": {
      "text/plain": [
       "1"
      ]
     },
     "execution_count": 14,
     "metadata": {},
     "output_type": "execute_result"
    }
   ],
   "source": [
    "len(arr)/2"
   ]
  },
  {
   "cell_type": "code",
   "execution_count": 25,
   "metadata": {
    "collapsed": false
   },
   "outputs": [],
   "source": [
    "idx = np.argsort(arr)"
   ]
  },
  {
   "cell_type": "code",
   "execution_count": 27,
   "metadata": {
    "collapsed": false
   },
   "outputs": [
    {
     "data": {
      "text/plain": [
       "array([3, 4, 5, 6, 7, 8, 0, 1, 2])"
      ]
     },
     "execution_count": 27,
     "metadata": {},
     "output_type": "execute_result"
    }
   ],
   "source": [
    "idx"
   ]
  },
  {
   "cell_type": "code",
   "execution_count": 26,
   "metadata": {
    "collapsed": false
   },
   "outputs": [
    {
     "data": {
      "text/plain": [
       "array([1, 1, 1, 2, 3, 3, 4, 4, 4])"
      ]
     },
     "execution_count": 26,
     "metadata": {},
     "output_type": "execute_result"
    }
   ],
   "source": [
    "arr[idx]"
   ]
  },
  {
   "cell_type": "code",
   "execution_count": 19,
   "metadata": {
    "collapsed": true
   },
   "outputs": [],
   "source": [
    "ties = np.array([[5, 4, 4],\n",
    "       [3, 6, 8],\n",
    "       [1, 1, 1]])"
   ]
  },
  {
   "cell_type": "code",
   "execution_count": 28,
   "metadata": {
    "collapsed": false
   },
   "outputs": [
    {
     "data": {
      "text/plain": [
       "array([[1, 2, 0],\n",
       "       [0, 1, 2],\n",
       "       [0, 1, 2]])"
      ]
     },
     "execution_count": 28,
     "metadata": {},
     "output_type": "execute_result"
    }
   ],
   "source": [
    "rows = np.argsort(ties, axis=1)\n",
    "rows"
   ]
  },
  {
   "cell_type": "code",
   "execution_count": 31,
   "metadata": {
    "collapsed": false
   },
   "outputs": [
    {
     "data": {
      "text/plain": [
       "array([[2, 2, 2],\n",
       "       [1, 0, 0],\n",
       "       [0, 1, 1]])"
      ]
     },
     "execution_count": 31,
     "metadata": {},
     "output_type": "execute_result"
    }
   ],
   "source": [
    "cols = np.argsort(ties, axis=0)\n",
    "cols"
   ]
  },
  {
   "cell_type": "code",
   "execution_count": 35,
   "metadata": {
    "collapsed": false
   },
   "outputs": [
    {
     "data": {
      "text/plain": [
       "array([[[4, 4, 5],\n",
       "        [5, 4, 4],\n",
       "        [5, 4, 4]],\n",
       "\n",
       "       [[6, 8, 3],\n",
       "        [3, 6, 8],\n",
       "        [3, 6, 8]],\n",
       "\n",
       "       [[1, 1, 1],\n",
       "        [1, 1, 1],\n",
       "        [1, 1, 1]]])"
      ]
     },
     "execution_count": 35,
     "metadata": {},
     "output_type": "execute_result"
    }
   ],
   "source": [
    "ties_idx = ties[:, rows]\n",
    "ties_idx"
   ]
  },
  {
   "cell_type": "code",
   "execution_count": 34,
   "metadata": {
    "collapsed": false
   },
   "outputs": [
    {
     "data": {
      "text/plain": [
       "(3, 3)"
      ]
     },
     "execution_count": 34,
     "metadata": {},
     "output_type": "execute_result"
    }
   ],
   "source": [
    "ties.shape"
   ]
  },
  {
   "cell_type": "code",
   "execution_count": 36,
   "metadata": {
    "collapsed": false
   },
   "outputs": [
    {
     "data": {
      "text/plain": [
       "(3, 3, 3)"
      ]
     },
     "execution_count": 36,
     "metadata": {},
     "output_type": "execute_result"
    }
   ],
   "source": [
    "ties_idx.shape"
   ]
  },
  {
   "cell_type": "code",
   "execution_count": 38,
   "metadata": {
    "collapsed": false
   },
   "outputs": [
    {
     "data": {
      "text/plain": [
       "array([[5, 4, 4],\n",
       "       [1, 1, 1],\n",
       "       [1, 1, 1]])"
      ]
     },
     "execution_count": 38,
     "metadata": {},
     "output_type": "execute_result"
    }
   ],
   "source": [
    "ties[rows[:,2]]"
   ]
  },
  {
   "cell_type": "code",
   "execution_count": 40,
   "metadata": {
    "collapsed": true
   },
   "outputs": [],
   "source": [
    "dists = np.random.random((500,500))\n"
   ]
  },
  {
   "cell_type": "code",
   "execution_count": 41,
   "metadata": {
    "collapsed": false
   },
   "outputs": [
    {
     "data": {
      "text/plain": [
       "array([[ 0.64171182,  0.13414621,  0.50851291, ...,  0.02174592,\n",
       "         0.93166835,  0.88625982],\n",
       "       [ 0.14197099,  0.91760463,  0.68201066, ...,  0.58930719,\n",
       "         0.97988541,  0.46958875],\n",
       "       [ 0.08868529,  0.88804921,  0.17500606, ...,  0.3014671 ,\n",
       "         0.21168146,  0.40727779],\n",
       "       ..., \n",
       "       [ 0.72479115,  0.97245899,  0.49976224, ...,  0.01558811,\n",
       "         0.02718399,  0.02623468],\n",
       "       [ 0.03731851,  0.76432808,  0.99296351, ...,  0.57354949,\n",
       "         0.34820305,  0.00154338],\n",
       "       [ 0.88323125,  0.4914054 ,  0.48888424, ...,  0.29177265,\n",
       "         0.35580226,  0.08498625]])"
      ]
     },
     "execution_count": 41,
     "metadata": {},
     "output_type": "execute_result"
    }
   ],
   "source": [
    "dists"
   ]
  },
  {
   "cell_type": "code",
   "execution_count": 43,
   "metadata": {
    "collapsed": false
   },
   "outputs": [
    {
     "ename": "ValueError",
     "evalue": "operands could not be broadcast together with shapes (500,) (10,) ",
     "output_type": "error",
     "traceback": [
      "\u001b[0;31m---------------------------------------------------------------------------\u001b[0m",
      "\u001b[0;31mValueError\u001b[0m                                Traceback (most recent call last)",
      "\u001b[0;32m<ipython-input-43-b7a5cc392c72>\u001b[0m in \u001b[0;36m<module>\u001b[0;34m()\u001b[0m\n\u001b[0;32m----> 1\u001b[0;31m \u001b[0my_train\u001b[0m \u001b[0;34m=\u001b[0m \u001b[0mnp\u001b[0m\u001b[0;34m.\u001b[0m\u001b[0mones\u001b[0m\u001b[0;34m(\u001b[0m\u001b[0;34m(\u001b[0m\u001b[0;36m500\u001b[0m\u001b[0;34m,\u001b[0m\u001b[0;34m)\u001b[0m\u001b[0;34m)\u001b[0m\u001b[0;34m*\u001b[0m\u001b[0mnp\u001b[0m\u001b[0;34m.\u001b[0m\u001b[0marange\u001b[0m\u001b[0;34m(\u001b[0m\u001b[0;36m10\u001b[0m\u001b[0;34m)\u001b[0m\u001b[0;34m\u001b[0m\u001b[0m\n\u001b[0m",
      "\u001b[0;31mValueError\u001b[0m: operands could not be broadcast together with shapes (500,) (10,) "
     ]
    }
   ],
   "source": [
    "y_train = np.arange(10)(*shape)"
   ]
  },
  {
   "cell_type": "code",
   "execution_count": 45,
   "metadata": {
    "collapsed": false
   },
   "outputs": [
    {
     "name": "stderr",
     "output_type": "stream",
     "text": [
      "/apps/anaconda/lib/python2.7/site-packages/ipykernel/__main__.py:1: DeprecationWarning: This function is deprecated. Please call randint(0, 9 + 1) instead\n",
      "  if __name__ == '__main__':\n"
     ]
    }
   ],
   "source": [
    "y_train = np.random.random_integers(0, 9, size=(500))"
   ]
  },
  {
   "cell_type": "code",
   "execution_count": 46,
   "metadata": {
    "collapsed": false
   },
   "outputs": [
    {
     "data": {
      "text/plain": [
       "array([3, 0, 3, 6, 0, 1, 0, 1, 3, 0, 2, 5, 1, 1, 6, 4, 2, 7, 7, 8, 4, 2, 4,\n",
       "       0, 4, 9, 4, 7, 7, 6, 5, 6, 0, 2, 1, 3, 0, 8, 7, 5, 5, 8, 8, 0, 3, 3,\n",
       "       2, 9, 9, 3, 0, 5, 7, 2, 0, 2, 1, 9, 5, 9, 6, 4, 2, 1, 3, 6, 6, 8, 2,\n",
       "       4, 0, 5, 6, 8, 7, 8, 6, 9, 4, 4, 5, 5, 9, 2, 2, 4, 3, 0, 8, 5, 1, 1,\n",
       "       4, 6, 4, 7, 2, 9, 6, 4, 5, 0, 1, 7, 3, 8, 3, 9, 8, 4, 5, 6, 1, 5, 0,\n",
       "       4, 4, 2, 8, 3, 9, 9, 5, 5, 6, 8, 5, 6, 6, 6, 9, 1, 3, 7, 2, 2, 7, 9,\n",
       "       7, 6, 8, 8, 7, 3, 8, 0, 1, 9, 4, 4, 7, 5, 5, 9, 9, 4, 3, 5, 1, 5, 6,\n",
       "       5, 3, 5, 5, 9, 3, 3, 1, 7, 7, 7, 2, 6, 5, 5, 9, 8, 6, 7, 4, 7, 9, 7,\n",
       "       9, 3, 0, 6, 6, 0, 8, 2, 6, 0, 3, 9, 1, 5, 4, 2, 7, 2, 1, 3, 0, 0, 8,\n",
       "       3, 1, 6, 5, 4, 6, 8, 2, 4, 6, 8, 8, 4, 3, 7, 2, 4, 2, 4, 4, 4, 3, 2,\n",
       "       8, 6, 0, 4, 5, 0, 6, 6, 0, 5, 4, 4, 0, 8, 6, 1, 7, 2, 2, 5, 9, 9, 8,\n",
       "       3, 9, 9, 6, 4, 4, 2, 3, 8, 0, 0, 9, 6, 7, 1, 9, 5, 7, 7, 3, 2, 3, 1,\n",
       "       4, 1, 8, 7, 4, 5, 0, 5, 2, 9, 5, 8, 4, 7, 2, 7, 7, 0, 3, 8, 6, 1, 5,\n",
       "       7, 6, 1, 4, 9, 9, 3, 0, 4, 4, 7, 4, 7, 8, 6, 0, 1, 7, 7, 6, 5, 8, 2,\n",
       "       6, 0, 5, 9, 7, 1, 9, 2, 6, 9, 2, 9, 9, 7, 0, 7, 8, 1, 5, 8, 5, 6, 2,\n",
       "       0, 0, 1, 2, 8, 2, 4, 6, 7, 9, 7, 3, 1, 9, 7, 4, 2, 0, 4, 8, 4, 8, 9,\n",
       "       8, 6, 4, 3, 6, 4, 3, 2, 5, 4, 5, 1, 3, 7, 8, 5, 5, 8, 4, 1, 8, 5, 9,\n",
       "       4, 5, 2, 2, 9, 8, 7, 7, 4, 0, 1, 3, 2, 3, 2, 3, 6, 4, 2, 0, 0, 8, 4,\n",
       "       5, 6, 4, 2, 6, 6, 7, 0, 7, 1, 4, 4, 3, 1, 2, 6, 6, 8, 4, 9, 0, 9, 6,\n",
       "       5, 0, 6, 3, 1, 0, 8, 2, 3, 1, 5, 9, 8, 2, 7, 5, 4, 9, 3, 8, 8, 9, 6,\n",
       "       4, 4, 0, 8, 6, 9, 3, 6, 8, 1, 8, 6, 1, 9, 3, 7, 2, 2, 5, 3, 2, 1, 7,\n",
       "       9, 9, 1, 9, 7, 5, 6, 4, 1, 8, 7, 4, 8, 3, 0, 1, 9])"
      ]
     },
     "execution_count": 46,
     "metadata": {},
     "output_type": "execute_result"
    }
   ],
   "source": [
    "y_train"
   ]
  },
  {
   "cell_type": "code",
   "execution_count": 73,
   "metadata": {
    "collapsed": false
   },
   "outputs": [
    {
     "name": "stdout",
     "output_type": "stream",
     "text": [
      "[8 0 0 6 6 2 1 0 4 4 4 5 2 3 8 2 3 8 5 8 8 4 3 5 4 3 1 3 3 0 1 5 8 4 0 2 4\n",
      " 9 7 9 6 8 8 4 5 9 1 2 9 4 5 4 0 6 7 3 4 3 4 5 2 8 5 9 6 3 7 7 6 5 5 0 4 4\n",
      " 2 3 5 6 4 5 5 3 2 5 7 9 1 4 7 9 4 0 1 4 1 5 3 0 6 7 3 1 5 6 7 9 8 6 0 4 6\n",
      " 7 4 5 0 1 0 4 4 9 9 7 9 8 3 7 9 4 1 9 7 4 8 6 4 5 1 8 9 4 2 4 5 0 3 8 3 8\n",
      " 5 8 5 8 7 8 5 2 8 5 7 2 8 2 5 4 8 6 8 8 5 8 4 6 2 6 9 7 6 1 7 4 9 9 2 7 6\n",
      " 4 0 2 1 5 9 5 9 8 7 2 6 0 0 5 9 5 7 0 5 9 3 7 0 2 6 3 9 6 5 2 1 8 8 9 1 3\n",
      " 2 1 4 5 7 9 5 0 6 6 4 7 5 2 0 0 6 7 8 2 2 6 4 4 4 2 6 3 5 5 3 3 6 4 2 6 3\n",
      " 3 6 0 7 4 1 1 2 5 3 4 4 5 7 6 2 6 7 1 8 1 7 7 7 7 9 0 3 8 6 5 6 6 3 0 2 0\n",
      " 8 9 5 3 0 9 4 6 5 5 0 4 1 7 2 2 7 0 6 1 1 6 6 0 0 9 0 9 1 6 0 6 1 9 0 3 5\n",
      " 5 2 4 2 2 3 8 9 0 1 4 3 1 6 9 1 1 3 4 7 9 1 6 7 3 8 4 3 9 5 5 8 1 8 5 7 4\n",
      " 5 3 7 4 8 6 8 6 9 2 6 6 0 0 9 9 5 8 0 7 8 4 6 7 7 8 2 3 9 2 6 1 1 3 6 9 6\n",
      " 2 2 7 2 1 5 8 2 3 9 8 3 2 4 4 6 2 6 7 9 7 9 1 4 9 6 6 6 4 3 1 0 7 4 8 9 0\n",
      " 8 3 7 8 2 0 1 8 4 4 2 2 4 8 7 8 4 0 9 7 4 7 4 5 2 3 7 2 0 9 1 9 0 3 7 7 2\n",
      " 1 9 7 1 1 9 2 9 4 6 0 8 8 9 2 1 3 3 8]\n",
      "[8 0]\n",
      "Counter({8: 1, 0: 1})\n",
      "(0, 1)\n",
      "0\n",
      "0\n",
      "[1 6 7 1 0 4 3 1 6 3 2 0 4 2 0 4 5 0 0 1 5 0 3 4 7 1 0 2 0 2 2 1 4 0 0 3 6\n",
      " 0 1 0 1 5 1 1 6 5 8 1 1 3 1 3 6 1 0 1 8 2 6 4 4 0 3 2 4 6 3 6 0 3 3 1 3 0\n",
      " 1 8 6 0 0 3 5 2 6 3 4 3 0 0 1 6 2 0 6 2 0 6 4 1 2 6 4 4 3 3 6 3 1 0 0 1 2\n",
      " 1 3 2 0 0 3 4 3 4 6 2 6 4 5 8 4 5 6 2 0 2 0 1 6 4 0 5 0 1 4 1 0 3 0 0 1 4\n",
      " 0 0 1 4 1 5 2 6 3 6 3 5 6 0 1 5 3 3 1 0 2 5 2 0 7 2 2 2 2 0 5 0 7 5 5 4 4\n",
      " 2 4 2 0 4 2 0 2 0 0 6 7 4 7 2 3 3 2 1 1 3 1 1 1 3 2 6 0 1 3 4 3 2 3 2 4 3\n",
      " 6 4 1 4 3 0 3 5 2 3 3 0 4 1 0 5 4 5 4 4 4 7 5 3 4 3 5 0 4 2 4 1 2 1 1 3 0\n",
      " 2 4 8 0 7 0 2 0 4 5 4 1 0 0 6 2 0 8 7 3 3 5 5 3 0 4 5 4 4 2 5 6 6 5 1 0 1\n",
      " 4 4 5 3 2 1 2 2 2 1 2 4 0 0 2 0 5 3 1 1 1 0 4 7 2 1 7 8 2 0 3 0 6 2 0 0 0\n",
      " 3 5 2 3 5 1 0 9 7 2 1 6 0 2 1 0 2 5 4 6 8 4 4 4 5 2 4 3 1 1 0 6 5 1 1 2 4\n",
      " 1 1 0 3 5 1 3 1 3 4 6 4 3 2 3 4 1 2 6 0 2 1 5 3 0 3 1 0 3 1 3 1 6 6 2 0 4\n",
      " 6 4 4 6 0 0 1 4 2 5 3 0 6 2 3 2 1 3 4 4 4 1 2 2 1 0 0 7 6 2 0 8 5 3 4 7 6\n",
      " 2 0 5 3 0 8 3 6 3 6 1 3 0 5 5 2 7 4 1 6 8 6 6 1 7 2 0 5 2 6 3 4 4 3 3 2 0\n",
      " 6 0 0 3 6 2 2 4 2 0 2 3 3 0 2 4 4 7 0]\n"
     ]
    }
   ],
   "source": [
    "from collections import Counter\n",
    "k = 1\n",
    "num_test = dists.shape[0]\n",
    "y_pred = np.zeros(num_test, dtype = int)\n",
    "\n",
    "for i in xrange(num_test):\n",
    "      # A list of length k storing the labels of the k nearest neighbors to\n",
    "      # the ith test point.\n",
    "    closest_y = []\n",
    "    sorted_idx = np.argsort(dists[i,:])\n",
    "    y_sorted = y_train[sorted_idx]\n",
    "    closest_y = y_sorted[:(k+1)]\n",
    "    dict_y = Counter(closest_y)\n",
    "    [v for v in sorted(dict_y.iteritems(), key=lambda(k, v): (v, -k))]\n",
    "    min_index = v[0]\n",
    "    y_pred[i] = min_index\n",
    "    \n",
    "       #########################################################################\n",
    "      # TODO:                                                                 #\n",
    "      # Use the distance matrix to find the k nearest neighbors of the ith    #\n",
    "      # testing point, and use self.y_train to find the labels of these       #\n",
    "      # neighbors. Store these labels in closest_y.                           #\n",
    "      # Hint: Look up the function numpy.argsort.                             #\n",
    "      #########################################################################\n",
    "      #min_index = np.argmin(dists)\n",
    "        \n",
    "    \n",
    "      #########################################################################\n",
    "      # TODO:                                                                 #\n",
    "      # Now that you have found the labels of the k nearest neighbors, you    #\n",
    "      # need to find the most common label in the list closest_y of labels.   #\n",
    "      # Store this label in y_pred[i]. Break ties by choosing the smaller     #\n",
    "      # label.                                                                #\n",
    "      #########################################################################\n",
    "     # predict the label of the nearest example\n",
    "    \n",
    "print y_sorted\n",
    "print closest_y\n",
    "print dict_y\n",
    "print v\n",
    "print min_index\n",
    "print v[0]\n",
    "print y_pred"
   ]
  },
  {
   "cell_type": "code",
   "execution_count": null,
   "metadata": {
    "collapsed": true
   },
   "outputs": [],
   "source": []
  }
 ],
 "metadata": {
  "kernelspec": {
   "display_name": "Python [Root]",
   "language": "python",
   "name": "Python [Root]"
  },
  "language_info": {
   "codemirror_mode": {
    "name": "ipython",
    "version": 2
   },
   "file_extension": ".py",
   "mimetype": "text/x-python",
   "name": "python",
   "nbconvert_exporter": "python",
   "pygments_lexer": "ipython2",
   "version": "2.7.12"
  }
 },
 "nbformat": 4,
 "nbformat_minor": 0
}
